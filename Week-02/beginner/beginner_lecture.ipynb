{
 "cells": [
  {
   "cell_type": "markdown",
   "metadata": {},
   "source": [
    "# Welcome to Jupyter Notebooks!"
   ]
  },
  {
   "cell_type": "markdown",
   "metadata": {},
   "source": [
    "Lets just play around with the interface. \n",
    "1. Review cells and what they do and their types.\n",
    "1. Review each icon.\n",
    "2. Talk about ordering and the dangers of notebooks.\n",
    "3. Most important shortcut of `Command/Shift + Enter`\n",
    "4. NOTEBOOKS ARE NOT PRODUCTION CODE.  They are your notebook / sketchpad. "
   ]
  },
  {
   "cell_type": "code",
   "execution_count": null,
   "metadata": {},
   "outputs": [],
   "source": [
    "x = 0"
   ]
  },
  {
   "cell_type": "code",
   "execution_count": 6,
   "metadata": {},
   "outputs": [
    {
     "name": "stdout",
     "output_type": "stream",
     "text": [
      "0\n"
     ]
    }
   ],
   "source": [
    "print(x)"
   ]
  },
  {
   "cell_type": "code",
   "execution_count": null,
   "metadata": {},
   "outputs": [],
   "source": [
    "x = 99\n",
    "print(x)"
   ]
  },
  {
   "cell_type": "code",
   "execution_count": null,
   "metadata": {},
   "outputs": [],
   "source": [
    "print(x)"
   ]
  },
  {
   "cell_type": "markdown",
   "metadata": {},
   "source": [
    "# Welcome to Python!"
   ]
  },
  {
   "cell_type": "code",
   "execution_count": 1,
   "metadata": {},
   "outputs": [
    {
     "name": "stdout",
     "output_type": "stream",
     "text": [
      "The Zen of Python, by Tim Peters\n",
      "\n",
      "Beautiful is better than ugly.\n",
      "Explicit is better than implicit.\n",
      "Simple is better than complex.\n",
      "Complex is better than complicated.\n",
      "Flat is better than nested.\n",
      "Sparse is better than dense.\n",
      "Readability counts.\n",
      "Special cases aren't special enough to break the rules.\n",
      "Although practicality beats purity.\n",
      "Errors should never pass silently.\n",
      "Unless explicitly silenced.\n",
      "In the face of ambiguity, refuse the temptation to guess.\n",
      "There should be one-- and preferably only one --obvious way to do it.\n",
      "Although that way may not be obvious at first unless you're Dutch.\n",
      "Now is better than never.\n",
      "Although never is often better than *right* now.\n",
      "If the implementation is hard to explain, it's a bad idea.\n",
      "If the implementation is easy to explain, it may be a good idea.\n",
      "Namespaces are one honking great idea -- let's do more of those!\n"
     ]
    }
   ],
   "source": [
    "# An easter egg from the creator of python. \n",
    "import this"
   ]
  },
  {
   "cell_type": "markdown",
   "metadata": {},
   "source": [
    "## What it means to be *Pythonic* \n",
    "Writing Pythonic code means writing code that is:\n",
    "* Simple\n",
    "* Readable\n",
    "* Clean\n",
    "* And embraces the \"Zen of Python\" 🧘‍♂️\n",
    "\n",
    "1. Use `snake_case` for variables & functions, `CamelCase` for classes.\n",
    "2. Use built-in tools/methods over manual loops.\n",
    "3. Simple over complex, explicit and concise, etc. "
   ]
  },
  {
   "cell_type": "markdown",
   "metadata": {},
   "source": [
    "# Syntax Basics\n",
    "Python syntax is ___space sensitive___ and ___dynamically typed___ \n",
    "\n",
    "This makes Python inherently readable and clean."
   ]
  },
  {
   "cell_type": "code",
   "execution_count": null,
   "metadata": {
    "editable": true,
    "slideshow": {
     "slide_type": ""
    },
    "tags": []
   },
   "outputs": [],
   "source": [
    "variable_x = 'x'\n",
    "print(variable_x)"
   ]
  },
  {
   "cell_type": "code",
   "execution_count": null,
   "metadata": {},
   "outputs": [],
   "source": [
    "variable_y = 'y'\n",
    "variable_z = 'z'\n",
    "  print(variable_y, variable_z)"
   ]
  },
  {
   "cell_type": "code",
   "execution_count": null,
   "metadata": {},
   "outputs": [],
   "source": [
    "# correct use of indentation\n",
    "def good_function():\n",
    "    print('YOLO')\n",
    "good_function()\n",
    "\n",
    "# functions expect an indented block\n",
    "def bad_function():\n",
    "print('NOT GONNA WORK')"
   ]
  },
  {
   "cell_type": "markdown",
   "metadata": {},
   "source": [
    "# The four main data types in Python.\n",
    "* **Integers**: Any whole number.\n",
    "* **Floats**: Any number with a decimal. \n",
    "* **Strings**: Any text between quotes.\n",
    "* **Booleans**: True or False - binary variables."
   ]
  },
  {
   "cell_type": "markdown",
   "metadata": {},
   "source": [
    "## Integers:  Round numbers"
   ]
  },
  {
   "cell_type": "code",
   "execution_count": 1,
   "metadata": {},
   "outputs": [
    {
     "name": "stdout",
     "output_type": "stream",
     "text": [
      "<class 'int'>\n",
      "100\n"
     ]
    }
   ],
   "source": [
    "# An Integer is a number without a decimal \n",
    "my_int = 100\n",
    "print(type(my_int)) \n",
    "print(my_int)"
   ]
  },
  {
   "cell_type": "markdown",
   "metadata": {},
   "source": [
    "## Floats:  numbers with decimals\n",
    "- AKA floating point numbers - more memory expensive "
   ]
  },
  {
   "cell_type": "code",
   "execution_count": null,
   "metadata": {},
   "outputs": [],
   "source": [
    "my_float = 99.99\n",
    "print(type(my_float))\n",
    "print(my_float)"
   ]
  },
  {
   "cell_type": "markdown",
   "metadata": {},
   "source": [
    "## Boolean variables:  True or False // thats it. "
   ]
  },
  {
   "cell_type": "code",
   "execution_count": null,
   "metadata": {},
   "outputs": [],
   "source": [
    "is_student = True  # Boolean variable\n",
    "print(type(is_student), is_student)"
   ]
  },
  {
   "cell_type": "markdown",
   "metadata": {},
   "source": [
    "# Math with floats and ints:\n",
    "(the code below Zack generated with GPT-4o, *lightly edited*)"
   ]
  },
  {
   "cell_type": "code",
   "execution_count": null,
   "metadata": {},
   "outputs": [],
   "source": [
    "### THANKS GPT-4o!!!\n",
    "a = 5\n",
    "b = 3\n",
    "\n",
    "# Addition (+)\n",
    "result_addition = a + b\n",
    "print('addition:', result_addition)  # Output: 8\n",
    "\n",
    "# Subtraction (-)\n",
    "result_subtraction = a - b\n",
    "print('subtraction:', result_subtraction)  # Output: 2\n",
    "\n",
    "# Multiplication (*)\n",
    "result_multiplication = a * b\n",
    "print('multiplication:', result_multiplication)  # Output: 15\n",
    "\n",
    "# Division (/)\n",
    "result_division = a / b\n",
    "print('division:', result_division)  # Output: 1.6666666666666667"
   ]
  },
  {
   "cell_type": "code",
   "execution_count": null,
   "metadata": {},
   "outputs": [],
   "source": [
    "# Floor/integer Division (//)\n",
    "result_floor_division = a // b\n",
    "print('floor:', result_floor_division)  # Output: 1\n",
    "\n",
    "# Modulus (%)\n",
    "result_modulus = a % b\n",
    "print('modulus:', result_modulus)  # Output: 2\n",
    "\n",
    "# Exponentiation (**)\n",
    "result_exponentiation = a ** b\n",
    "print('exponentiation:', result_exponentiation)  # Output: 125\n",
    "\n",
    "# more available in the math library\n",
    "import math"
   ]
  },
  {
   "cell_type": "markdown",
   "metadata": {},
   "source": [
    "## String variables: Anything between quotes.\n",
    "- Represents text, either with single quotes `' '` or double quotes `\" \"` or even TRIPLE quotes `\"\"\" \"\"\"`."
   ]
  },
  {
   "cell_type": "code",
   "execution_count": null,
   "metadata": {},
   "outputs": [],
   "source": [
    "my_string = 'Hello CTP'\n",
    "print( type(my_string) )\n",
    "print(my_string)\n"
   ]
  },
  {
   "cell_type": "code",
   "execution_count": 3,
   "metadata": {},
   "outputs": [
    {
     "name": "stdout",
     "output_type": "stream",
     "text": [
      "\n",
      "    multiple lines of text\n",
      "\n",
      "    more stuff here\n",
      "\n",
      "    `cool formatting`\n",
      "    \n"
     ]
    }
   ],
   "source": [
    "# example of a multi-line string\n",
    "x = \"\"\"\n",
    "    multiple lines of text\n",
    "\n",
    "    more stuff here\n",
    "\n",
    "    `cool formatting`\n",
    "    \"\"\"\n",
    "print(x)"
   ]
  },
  {
   "cell_type": "markdown",
   "metadata": {},
   "source": [
    "# String Methods"
   ]
  },
  {
   "cell_type": "code",
   "execution_count": 2,
   "metadata": {},
   "outputs": [
    {
     "name": "stdout",
     "output_type": "stream",
     "text": [
      "<class 'str'> <class 'str'>\n",
      "Hello World, I love you.\n"
     ]
    }
   ],
   "source": [
    "my_string = 'Hello World'\n",
    "my_string2 = \"Hello World\"\n",
    "\n",
    "print(type(my_string), type(my_string2))\n",
    "\n",
    "my_string += ', I love you.'\n",
    "print(my_string)"
   ]
  },
  {
   "cell_type": "markdown",
   "metadata": {},
   "source": [
    "## String methods are awesome.  They are _built in functions_.\n",
    "\n",
    "You will see this syntax quite often, where a variable name is followed by a dot `.` and then the name of a function, followed by a set of parentheses `()`. \n",
    "\n",
    "The parentheses may be empty, or they may contain some values.\n",
    "\n",
    "```py\n",
    "variable_name.function(argument: optional)\n",
    "```\n",
    "\n",
    "In this example, `function` is the name of a method. A method is something that can be done to a variable. \n",
    "\n",
    "The methods `.lower()`, `.title()`, and `.upper()` are all functions that have been written into the Python language, which do something to strings. \n"
   ]
  },
  {
   "cell_type": "code",
   "execution_count": 4,
   "metadata": {},
   "outputs": [
    {
     "name": "stdout",
     "output_type": "stream",
     "text": [
      "hello world, i love you.\n"
     ]
    }
   ],
   "source": [
    "# my_lower_string = my_string.lower()\n",
    "# print(my_lower_string)\n",
    "print(my_string.lower())"
   ]
  },
  {
   "cell_type": "code",
   "execution_count": 5,
   "metadata": {},
   "outputs": [
    {
     "name": "stdout",
     "output_type": "stream",
     "text": [
      "HELLO WORLD, I LOVE YOU.\n"
     ]
    }
   ],
   "source": [
    "my_upper_string = my_string.upper()\n",
    "print(my_upper_string)"
   ]
  },
  {
   "cell_type": "code",
   "execution_count": 6,
   "metadata": {},
   "outputs": [
    {
     "name": "stdout",
     "output_type": "stream",
     "text": [
      "Hello World, I Love You.\n"
     ]
    }
   ],
   "source": [
    "\n",
    "my_title_string = my_string.title()\n",
    "print(my_title_string)"
   ]
  },
  {
   "cell_type": "code",
   "execution_count": null,
   "metadata": {},
   "outputs": [],
   "source": [
    "# List all the built in methods for this object\n",
    "# help(str)"
   ]
  },
  {
   "cell_type": "markdown",
   "metadata": {},
   "source": [
    "## Zack's favorite string methods: `replace`, `split`, and `join`. "
   ]
  },
  {
   "cell_type": "code",
   "execution_count": null,
   "metadata": {},
   "outputs": [],
   "source": [
    "# Here are all the methods for strings \n",
    "\n",
    "# Define a sample string\n",
    "sample_string = \"Hello, World!\"\n",
    "print(sample_string)\n",
    "\n",
    "# Replace\n",
    "replaced = sample_string.replace(\"World\", \"Weezy F. Baby is the Carter\")\n",
    "print(replaced)  # Output: \"Hello, Weezy F. Baby is the Carter\"\n",
    "# Explanation: Replaces all occurrences of a substring with another substring\n",
    "\n",
    "# Split\n",
    "split_string = sample_string.split(\", \")\n",
    "print(split_string)  # Output: [\"Hello\", \"World!\"]\n",
    "# Explanation: Splits the string into a list at each occurrence of the delimiter\n",
    "\n",
    "# Join\n",
    "joined_string = \", \".join(split_string)\n",
    "print(joined_string)  # Output: \"Hello, World!\"\n",
    "# Explanation: Joins elements of a list into a single string, separated by the specified delimiter"
   ]
  },
  {
   "cell_type": "markdown",
   "metadata": {},
   "source": [
    "### Hussam's Fav: Formatted Strings - prettier print statements\n",
    "* prefix a string with `f` and add your variables inside curly braces `{}`"
   ]
  },
  {
   "cell_type": "code",
   "execution_count": 7,
   "metadata": {},
   "outputs": [
    {
     "name": "stdout",
     "output_type": "stream",
     "text": [
      "My name is Hussam and I'm 24 years old.\n",
      "my name is Hussam and I'm 24 years old.\n"
     ]
    }
   ],
   "source": [
    "name = \"Hussam\"\n",
    "age = 24\n",
    "print(f\"My name is {name} and I'm {age} years old.\")\n",
    "\n",
    "# vs doing \n",
    "print(\"my name is\", name, \"and I'm\", age, \"years old.\")\n"
   ]
  },
  {
   "cell_type": "markdown",
   "metadata": {},
   "source": [
    "## Other less important String methods"
   ]
  },
  {
   "cell_type": "code",
   "execution_count": null,
   "metadata": {},
   "outputs": [],
   "source": [
    "# Strip\n",
    "sample_string_with_spaces = \"   Hello, World!   \"\n",
    "stripped = sample_string_with_spaces.strip()\n",
    "print(stripped)  # Output: \"Hello, World!\"\n",
    "# Explanation: Removes leading and trailing whitespace\n",
    "\n",
    "# Capitalize\n",
    "capitalized = stripped.capitalize()\n",
    "print(capitalized)  # Output: \"Hello, world!\"\n",
    "# Explanation: Capitalizes the first character of the string\n",
    "\n",
    "# Swapcase\n",
    "swap_case = stripped.swapcase()\n",
    "print(swap_case)  # Output: \"hELLO, wORLD!\"\n",
    "# Explanation: Swaps the case of all characters\n",
    "\n",
    "# Find\n",
    "index = stripped.find(\"World\")\n",
    "print(index)  # Output: 7\n",
    "# Explanation: Returns the index of the first occurrence of the substring, or -1 if not found\n",
    "\n",
    "# Startswith\n",
    "starts_with = stripped.startswith(\"Hello\")\n",
    "print(starts_with)  # Output: True\n",
    "# Explanation: Returns True if the string starts with the specified substring\n",
    "\n",
    "# Endswith\n",
    "ends_with = stripped.endswith(\"!\")\n",
    "print(ends_with)  # Output: True\n",
    "# Explanation: Returns True if the string ends with the specified substring\n",
    "\n",
    "# Count\n",
    "count = stripped.count(\"l\")\n",
    "print(count)  # Output: 3\n",
    "# Explanation: Returns the number of occurrences of a substring in the string\n",
    "\n",
    "# Isalpha\n",
    "is_alpha = stripped.isalpha()\n",
    "print(is_alpha)  # Output: False\n",
    "# Explanation: Returns True if all characters in the string are alphabetic and there is at least one character\n",
    "\n",
    "# Isdigit\n",
    "is_digit = stripped.isdigit()\n",
    "print(is_digit)  # Output: False\n",
    "# Explanation: Returns True if all characters in the string are digits and there is at least one character\n",
    "\n",
    "# Isalnum\n",
    "is_alnum = stripped.isalnum()\n",
    "print(is_alnum)  # Output: False\n",
    "# Explanation: Returns True if all characters in the string are alphanumeric and there is at least one character\n",
    "\n",
    "# Islower\n",
    "is_lower = stripped.islower()\n",
    "print(is_lower)  # Output: False\n",
    "# Explanation: Returns True if all characters in the string are lowercase and there is at least one character\n",
    "\n",
    "# Isupper\n",
    "is_upper = stripped.isupper()\n",
    "print(is_upper)  # Output: False\n",
    "# Explanation: Returns True if all characters in the string are uppercase and there is at least one character\n",
    "\n",
    "# Istitle\n",
    "is_title = stripped.istitle()\n",
    "print(is_title)  # Output: True\n",
    "# Explanation: Returns True if the string is titlecased (each word starts with an uppercase letter)"
   ]
  },
  {
   "cell_type": "markdown",
   "metadata": {},
   "source": [
    "# Main data structures\n",
    "* Lists\n",
    "* Dictionaries\n",
    "* Sets\n",
    "* Tuples"
   ]
  },
  {
   "cell_type": "markdown",
   "metadata": {},
   "source": [
    "## Lists: The best data structure in the world.\n",
    "A list is a data structure in Python that is a mutable, or *changeable*, ordered sequence of elements. Each element or value that is inside of a list is called an item.\n",
    "\n",
    "* You create a list by listing out items in between square brackets `[]` seperated by commas `,`.  "
   ]
  },
  {
   "cell_type": "code",
   "execution_count": 14,
   "metadata": {},
   "outputs": [
    {
     "name": "stdout",
     "output_type": "stream",
     "text": [
      "<class 'list'> ['z', 'a', 'c', 'k', 'DESARIO']\n"
     ]
    }
   ],
   "source": [
    "# How to create a list.\n",
    "my_list = ['z', 'a', 'c', 'k', 'DESARIO']\n",
    "print(type(my_list), my_list)"
   ]
  },
  {
   "cell_type": "markdown",
   "metadata": {},
   "source": [
    "* Lists are indexed, like pages in a book. Each element in a list can be accessed by its index.\n",
    "* Lists begin at index 0, NOT 1."
   ]
  },
  {
   "cell_type": "code",
   "execution_count": 15,
   "metadata": {},
   "outputs": [
    {
     "name": "stdout",
     "output_type": "stream",
     "text": [
      "original list: ['z', 'a', 'c', 'k', 'DESARIO']\n",
      "first_element: z\n",
      "last_element: DESARIO\n",
      "first_three_elements: ['z', 'a', 'c']\n"
     ]
    }
   ],
   "source": [
    "print(f'original list: {my_list}') # formatted string\n",
    "\n",
    "# Accessing elements within a list via indexing\n",
    "zeroth_element = my_list[0]\n",
    "print('first_element:', zeroth_element)\n",
    "\n",
    "# # You can use negaive indexes.\n",
    "last_element = my_list[-1]\n",
    "print('last_element:', last_element)\n",
    "\n",
    "# Slicing: You can access several elements by using : \n",
    "first_three_elements = my_list[0:3]\n",
    "\n",
    "print('first_three_elements:', first_three_elements)"
   ]
  },
  {
   "cell_type": "markdown",
   "metadata": {},
   "source": [
    "### Adding and removing elements to a list using their built in methods. These methods happen 'in-place'."
   ]
  },
  {
   "cell_type": "code",
   "execution_count": 16,
   "metadata": {},
   "outputs": [
    {
     "name": "stdout",
     "output_type": "stream",
     "text": [
      "['z', 'a', 'c', 'k', 'DESARIO', '!']\n",
      "['z', 'a', 'c', 'k', 'DESARIO', '!', '!']\n",
      "['z', 'a', 'c', 'k', 'DESARIO', '!']\n"
     ]
    }
   ],
   "source": [
    "## NOTE THESE METHODS HAPPEN 'in-place' (returns nothing, modifies the current object).\n",
    "# Adding items to a list\n",
    "my_list.append('!')\n",
    "print(my_list)\n",
    "\n",
    "my_list.append('!')\n",
    "print(my_list)\n",
    "\n",
    "# # # Removes JUST ONE of the elements from the list\n",
    "my_list.remove('!')\n",
    "print(my_list)"
   ]
  },
  {
   "cell_type": "code",
   "execution_count": 17,
   "metadata": {},
   "outputs": [
    {
     "data": {
      "text/plain": [
       "1"
      ]
     },
     "execution_count": 17,
     "metadata": {},
     "output_type": "execute_result"
    }
   ],
   "source": [
    "my_list.count('z')"
   ]
  },
  {
   "cell_type": "markdown",
   "metadata": {},
   "source": [
    "### Example of a method that does not happen in place. "
   ]
  },
  {
   "cell_type": "code",
   "execution_count": 18,
   "metadata": {},
   "outputs": [
    {
     "name": "stdout",
     "output_type": "stream",
     "text": [
      "hello world HELLO WORLD\n"
     ]
    }
   ],
   "source": [
    "# NOT IN-PLACE METHOD: returns a modified copy of the object\n",
    "my_string = 'hello world'\n",
    "my_new_string = my_string.upper()\n",
    "print(my_string, my_new_string)"
   ]
  },
  {
   "cell_type": "markdown",
   "metadata": {
    "collapsed": true,
    "jupyter": {
     "outputs_hidden": true
    }
   },
   "source": [
    "### QUESTION: How would we list all the methods of a list?\n"
   ]
  },
  {
   "cell_type": "code",
   "execution_count": 19,
   "metadata": {
    "scrolled": true
   },
   "outputs": [],
   "source": [
    "# Print all the methods of a list. \n",
    "# help(list)"
   ]
  },
  {
   "cell_type": "code",
   "execution_count": 20,
   "metadata": {},
   "outputs": [
    {
     "data": {
      "text/plain": [
       "['z', 'a', 'c', 'k', 'DESARIO', '!']"
      ]
     },
     "execution_count": 20,
     "metadata": {},
     "output_type": "execute_result"
    }
   ],
   "source": [
    "my_list"
   ]
  },
  {
   "cell_type": "code",
   "execution_count": 21,
   "metadata": {
    "scrolled": true
   },
   "outputs": [
    {
     "name": "stdout",
     "output_type": "stream",
     "text": [
      "['z', 'a', 'c', 'k', 'DESARIO', '!']\n",
      "['!', 'DESARIO', 'a', 'c', 'k', 'z']\n"
     ]
    }
   ],
   "source": [
    "print(my_list)\n",
    "# Sorting happens 'in-place' which means you dont have to set it equal to anything.\n",
    "\n",
    "my_list.sort()  # hovering shows it sorts ASC by default, and DESC if stipulated\n",
    "                # ie. my_list.sort(reverse=True)\n",
    "print(my_list)"
   ]
  },
  {
   "cell_type": "code",
   "execution_count": 22,
   "metadata": {},
   "outputs": [
    {
     "name": "stdout",
     "output_type": "stream",
     "text": [
      "['ZZZ', 'DESARIO', 'a', 'c', 'k', 'z']\n",
      "['ZZZ', 'DESARIO', 'a', 'c', 'k', 'BBB']\n"
     ]
    }
   ],
   "source": [
    "# Editing items in a list -- here replacing/modifying the first element\n",
    "my_list[0] = \"ZZZ\"\n",
    "print(my_list)\n",
    "\n",
    "my_list[-1] = 'BBB'\n",
    "print(my_list)"
   ]
  },
  {
   "cell_type": "code",
   "execution_count": null,
   "metadata": {},
   "outputs": [],
   "source": [
    "## Alot of other"
   ]
  },
  {
   "cell_type": "markdown",
   "metadata": {},
   "source": [
    "### Iteration and Loops with lists\n",
    "```java\n",
    "for (int i = 0; i < 5; i++) {\n",
    "    System.out.println(i); // in Java\n",
    "    cout << i << endl; // in C++\n",
    "}\n",
    "```\n",
    "* It's more intuitive in Python:"
   ]
  },
  {
   "cell_type": "code",
   "execution_count": 24,
   "metadata": {},
   "outputs": [
    {
     "name": "stdout",
     "output_type": "stream",
     "text": [
      "ZZZ\n",
      "DESARIO\n",
      "ZZZ\n",
      "a\n",
      "c\n",
      "BBB\n"
     ]
    }
   ],
   "source": [
    "# Iterating through a list.\n",
    "my_list = ['ZZZ', 'DESARIO', 'ZZZ', 'a', 'c', 'BBB']\n",
    "\n",
    "# prints each item in the list\n",
    "for item in my_list:\n",
    "    print(item)"
   ]
  },
  {
   "cell_type": "code",
   "execution_count": null,
   "metadata": {},
   "outputs": [],
   "source": [
    "# Many other languages use indexes for iteration and loops. \n",
    "\n",
    "## THIS IS CORRECT BUT NOT PYTHONIC \n",
    "for i in range(0, len(my_list)):\n",
    "    print(my_list[i])\n",
    "\n",
    "## DO NOT DO THE ABOVE. "
   ]
  },
  {
   "cell_type": "code",
   "execution_count": 25,
   "metadata": {},
   "outputs": [
    {
     "name": "stdout",
     "output_type": "stream",
     "text": [
      "0 ZZZ\n",
      "1 DESARIO\n",
      "2 ZZZ\n",
      "3 a\n",
      "4 c\n",
      "5 BBB\n"
     ]
    }
   ],
   "source": [
    "# If you do need the index, use enumerate. \n",
    "# Iterating and indexing through a list. \n",
    "for index, item in enumerate(my_list):\n",
    "    print(index, item)"
   ]
  },
  {
   "cell_type": "code",
   "execution_count": 30,
   "metadata": {},
   "outputs": [
    {
     "name": "stdout",
     "output_type": "stream",
     "text": [
      "0\n",
      "1\n",
      "2\n",
      "3\n",
      "4\n",
      "5\n"
     ]
    }
   ],
   "source": [
    "for index in range(len(my_list)):\n",
    "    print(index)"
   ]
  },
  {
   "cell_type": "markdown",
   "metadata": {},
   "source": [
    "### SUMMARY: Lists are versatile \n",
    "* They can store basically anything. \n",
    "* They are ordered. \n",
    "* They you can update the values of them easily. "
   ]
  },
  {
   "cell_type": "code",
   "execution_count": 31,
   "metadata": {},
   "outputs": [
    {
     "name": "stdout",
     "output_type": "stream",
     "text": [
      "['a', 'b', [1, 2, 3], {}, 99.99]\n"
     ]
    },
    {
     "data": {
      "text/plain": [
       "[1, 2, 3]"
      ]
     },
     "execution_count": 31,
     "metadata": {},
     "output_type": "execute_result"
    }
   ],
   "source": [
    "# Lists can contain other lists or any data type\n",
    "my_list = [ 'a', 'b', [1,2,3], dict(), 99.99 ]\n",
    "print(my_list)\n",
    "\n",
    "internal_list = my_list[2]\n",
    "internal_list"
   ]
  },
  {
   "cell_type": "code",
   "execution_count": 32,
   "metadata": {},
   "outputs": [
    {
     "name": "stdout",
     "output_type": "stream",
     "text": [
      "['lil wayne', 'drake', 'nicki minaj']\n"
     ]
    }
   ],
   "source": [
    "# Creating an empty list.\n",
    "a_list = []\n",
    "\n",
    "a_list.append('lil wayne')\n",
    "a_list.append('drake')\n",
    "a_list.append('nicki minaj')\n",
    "\n",
    "print(a_list)"
   ]
  },
  {
   "cell_type": "code",
   "execution_count": 33,
   "metadata": {},
   "outputs": [
    {
     "name": "stdout",
     "output_type": "stream",
     "text": [
      "3\n"
     ]
    }
   ],
   "source": [
    "# Finding the length of a list\n",
    "print(len(a_list))"
   ]
  },
  {
   "cell_type": "markdown",
   "metadata": {},
   "source": [
    "#### Basic operations with lists"
   ]
  },
  {
   "cell_type": "code",
   "execution_count": 34,
   "metadata": {},
   "outputs": [
    {
     "name": "stdout",
     "output_type": "stream",
     "text": [
      "[1, 2, 4]\n",
      "[1, 2, 3, 4]\n",
      "[1, 2, 4]\n",
      "4\n",
      "[1, 2]\n"
     ]
    }
   ],
   "source": [
    "my_list = [1, 2, 4]\n",
    "print(my_list)\n",
    "\n",
    "# inserting values -> Shifts everything after the index to the right\n",
    "my_list.insert(2, 3)  # insert 3 at index 2\n",
    "print(my_list)  # output: [1, 2, 3, 4]\n",
    "\n",
    "# removing values\n",
    "my_list.remove(3) # removes 1st match and throws an error if the value doesn't exist\n",
    "print(my_list)  # output [1, 2, 4]\n",
    "\n",
    "# popping -> remove the last element and return it\n",
    "last_item = my_list.pop()\n",
    "print(last_item)\n",
    "print(my_list)"
   ]
  },
  {
   "cell_type": "code",
   "execution_count": 46,
   "metadata": {},
   "outputs": [
    {
     "name": "stdout",
     "output_type": "stream",
     "text": [
      "['lil wayne', 'drake', 'nicki minaj']\n",
      "['Lil Wayne', 'Drake', 'Nicki Minaj']\n",
      "['paylor fwift', 'Lil Wayne', 'Drake', 'Nicki Minaj']\n",
      "['paylor fwift', 'TESSIE KAY', 'Lil Wayne', 'Drake', 'Nicki Minaj']\n",
      "['paylor fwift', 'TESSIE KAY', 'Nicki Minaj']\n",
      "['paylor fwift', 'TESSIE KAY']\n",
      "['Paylor Fwift', 'Tessie Kay']\n"
     ]
    }
   ],
   "source": [
    "# empty list\n",
    "a_list = []\n",
    "\n",
    "# add names to list\n",
    "a_list.append('lil wayne')\n",
    "a_list.append('drake')\n",
    "a_list.append('nicki minaj')\n",
    "print(a_list)\n",
    "\n",
    "# title case each name in list\n",
    "for person in range(len(a_list)):\n",
    "    a_list[person] = a_list[person].title()\n",
    "print(a_list)\n",
    "\n",
    "# add names in front of list\n",
    "a_list.insert(0, 'paylor fwift')\n",
    "print(a_list)\n",
    "\n",
    "a_list.insert(1, 'TESSIE KAY')\n",
    "print(a_list)\n",
    "\n",
    "# remove 2 rappers from list\n",
    "a_list.remove('Drake')\n",
    "a_list.remove('Lil Wayne')\n",
    "print(a_list)\n",
    "\n",
    "# pop last person from list\n",
    "a_list.pop()\n",
    "print(a_list)\n",
    "\n",
    "# title case each name in list, given names can be all lower, upper, etc.\n",
    "for person in range(len(a_list)):\n",
    "    a_list[person] = a_list[person].lower().title()\n",
    "print(a_list)"
   ]
  },
  {
   "cell_type": "code",
   "execution_count": 47,
   "metadata": {},
   "outputs": [
    {
     "name": "stdout",
     "output_type": "stream",
     "text": [
      "smallest: 1, largest: 99, total: 133\n"
     ]
    }
   ],
   "source": [
    "# quick maths with lists:\n",
    "number_list = [5, 1, 6, 99, 22]\n",
    "\n",
    "smallest = min(number_list)\n",
    "largest = max(number_list)\n",
    "total = sum(number_list)\n",
    "\n",
    "print(f'smallest: {smallest}, largest: {largest}, total: {total}')"
   ]
  },
  {
   "cell_type": "code",
   "execution_count": 48,
   "metadata": {},
   "outputs": [
    {
     "name": "stdout",
     "output_type": "stream",
     "text": [
      "[1, 2, 3, 4, 5]\n",
      "[5, 4, 3, 2, 1]\n"
     ]
    }
   ],
   "source": [
    "### GPT TY! \n",
    "\n",
    "numbers = [1, 2, 3, 4, 5]\n",
    "\n",
    "# Sorting Lists\n",
    "numbers_unsorted = [5, 2, 3, 1, 4]\n",
    "numbers_unsorted.sort()\n",
    "print(numbers_unsorted)  # Output: [1, 2, 3, 4, 5]\n",
    "# Sorts the list in ascending order\n",
    "\n",
    "# Reversing Lists\n",
    "numbers.reverse()\n",
    "print(numbers)  # Output: [5, 4, 3, 2, 1]\n",
    "# Reverses the order of the list"
   ]
  },
  {
   "cell_type": "code",
   "execution_count": null,
   "metadata": {},
   "outputs": [
    {
     "name": "stdout",
     "output_type": "stream",
     "text": [
      "['Paylor Fwift', 'Tessie Kay']\n",
      "None\n",
      "['Tessie Kay', 'Paylor Fwift']\n"
     ]
    }
   ],
   "source": [
    "print(a_list)\n",
    "print(a_list.reverse())  # returns nothing, but method modifies in-place\n",
    "print(a_list)"
   ]
  },
  {
   "cell_type": "markdown",
   "metadata": {},
   "source": [
    "# Dictionaries\n",
    "A dictionary consists of a collection of __key-value pairs__. Each key-value **pair** maps the key to its associated **value**.\n",
    "\n",
    "You can define a dictionary by enclosing a comma-separated list of key-value pairs in curly braces `{}`. A colon `:` separates each key from its associated value.\"\n",
    "\n",
    "Other programming languages might call this a `hash`, `hashtable` or `hashmap`.\n",
    "\n",
    "If you've seen a JSON file before, its basically a bunch of dictionaries.\n",
    "\n",
    "- Uses more memory but have faster lookup times than lists"
   ]
  },
  {
   "cell_type": "markdown",
   "metadata": {},
   "source": [
    "## Defining and filling a dictionary."
   ]
  },
  {
   "cell_type": "code",
   "execution_count": 69,
   "metadata": {},
   "outputs": [
    {
     "data": {
      "text/plain": [
       "{'key_one': 22,\n",
       " 'key_two': 200,\n",
       " 'key_three': [1, 2, 3],\n",
       " 'key_four': 'hello world',\n",
       " 4: 'something'}"
      ]
     },
     "execution_count": 69,
     "metadata": {},
     "output_type": "execute_result"
    }
   ],
   "source": [
    "my_dict = { 'key_one': 22, \n",
    "           'key_two': 200, \n",
    "           'key_three': [1,2,3], \n",
    "           'key_four': 'hello world', \n",
    "           4: 'something'}\n",
    "my_dict"
   ]
  },
  {
   "cell_type": "code",
   "execution_count": 70,
   "metadata": {},
   "outputs": [
    {
     "data": {
      "text/plain": [
       "{'key_one': 22,\n",
       " 'key_two': 200,\n",
       " 'key_three': [1, 2, 3],\n",
       " 'key_four': 'hello world',\n",
       " 4: 'something',\n",
       " 'my_new_key': 300}"
      ]
     },
     "execution_count": 70,
     "metadata": {},
     "output_type": "execute_result"
    }
   ],
   "source": [
    "my_dict['my_new_key'] = 300\n",
    "my_dict"
   ]
  },
  {
   "cell_type": "code",
   "execution_count": 71,
   "metadata": {},
   "outputs": [],
   "source": [
    "# This will throw an error -- key doesn't exist in my_dict\n",
    "# print(my_dict['unknown_key'])"
   ]
  },
  {
   "cell_type": "markdown",
   "metadata": {},
   "source": [
    "## Dictionary keys must be UNIQUE.  "
   ]
  },
  {
   "cell_type": "code",
   "execution_count": 72,
   "metadata": {},
   "outputs": [
    {
     "name": "stdout",
     "output_type": "stream",
     "text": [
      "{'key_one': 999, 'key_two': 200}\n"
     ]
    }
   ],
   "source": [
    "# Dictionary keys must be UNIQUE.\n",
    "my_dict = {'key_one': 100, 'key_two': 200, 'key_one': 999}\n",
    "print(my_dict)"
   ]
  },
  {
   "cell_type": "code",
   "execution_count": 73,
   "metadata": {},
   "outputs": [
    {
     "name": "stdout",
     "output_type": "stream",
     "text": [
      "dict_values([999, 200])\n",
      "[999, 200]\n",
      "999\n"
     ]
    }
   ],
   "source": [
    "print( my_dict.values() )  # there are only two values in my_dict\n",
    "\n",
    "# print values in my_dict as a list\n",
    "values = list(my_dict.values())\n",
    "print(values)\n",
    "\n",
    "# print first value in my_dict\n",
    "print(values[0])"
   ]
  },
  {
   "cell_type": "code",
   "execution_count": 74,
   "metadata": {},
   "outputs": [
    {
     "name": "stdout",
     "output_type": "stream",
     "text": [
      "{'key_one': 999, 'key_two': 200}\n"
     ]
    },
    {
     "data": {
      "text/plain": [
       "{'key_two': 200}"
      ]
     },
     "execution_count": 74,
     "metadata": {},
     "output_type": "execute_result"
    }
   ],
   "source": [
    "# pop a key-value pair from my_dict\n",
    "print(my_dict)\n",
    "my_dict.pop('key_one')\n",
    "my_dict"
   ]
  },
  {
   "cell_type": "code",
   "execution_count": 75,
   "metadata": {},
   "outputs": [
    {
     "data": {
      "text/plain": [
       "{'key_one': 22,\n",
       " 'key_two': 200,\n",
       " 'key_three': [1, 2, 3],\n",
       " 'key_four': 'hello world',\n",
       " 4: 'something'}"
      ]
     },
     "execution_count": 75,
     "metadata": {},
     "output_type": "execute_result"
    }
   ],
   "source": [
    "my_dict = { 'key_one': 22, \n",
    "           'key_two': 200, \n",
    "           'key_three': [1,2,3], \n",
    "           'key_four': 'hello world', \n",
    "           4: 'something'}\n",
    "my_dict"
   ]
  },
  {
   "cell_type": "markdown",
   "metadata": {},
   "source": [
    "## Properly iterate through a dictionary"
   ]
  },
  {
   "cell_type": "code",
   "execution_count": 76,
   "metadata": {},
   "outputs": [
    {
     "name": "stdout",
     "output_type": "stream",
     "text": [
      "key_one 22\n",
      "key_two 200\n",
      "key_three [1, 2, 3]\n",
      "key_four hello world\n",
      "4 something\n"
     ]
    }
   ],
   "source": [
    "# Iterating through dictionaries\n",
    "for key in my_dict: \n",
    "    print( key, my_dict[key] )\n",
    "    "
   ]
  },
  {
   "cell_type": "code",
   "execution_count": 77,
   "metadata": {},
   "outputs": [
    {
     "name": "stdout",
     "output_type": "stream",
     "text": [
      "key_one 22\n",
      "key_two 200\n",
      "key_three [1, 2, 3]\n",
      "key_four hello world\n",
      "4 something\n"
     ]
    }
   ],
   "source": [
    "# This is another way to do it, but techincally slower. \n",
    "for key, value in my_dict.items(): \n",
    "    print(key,value)"
   ]
  },
  {
   "cell_type": "markdown",
   "metadata": {},
   "source": [
    "# Sets\n",
    "* The main thing I use sets for is to remove **duplicates**.\n",
    "* Sets are unordered.\n",
    "* Set elements are **unique**. Duplicate elements are not allowed."
   ]
  },
  {
   "cell_type": "code",
   "execution_count": 78,
   "metadata": {},
   "outputs": [
    {
     "data": {
      "text/plain": [
       "{'a', 'b', 'c', 'z'}"
      ]
     },
     "execution_count": 78,
     "metadata": {},
     "output_type": "execute_result"
    }
   ],
   "source": [
    "my_set = set( ('z', 'b', 'c', 'a', 'a', 'a', 'a', 'z') )\n",
    "my_set"
   ]
  },
  {
   "cell_type": "code",
   "execution_count": null,
   "metadata": {},
   "outputs": [],
   "source": [
    "# THIS WILL THROW AN ERROR\n",
    "# BECAUSE SETS ARE 'unordered'\n",
    "my_set[0]"
   ]
  },
  {
   "cell_type": "code",
   "execution_count": 79,
   "metadata": {},
   "outputs": [
    {
     "name": "stdout",
     "output_type": "stream",
     "text": [
      "It's there\n"
     ]
    }
   ],
   "source": [
    "# but you can check for an element (if exists) within a set\n",
    "if 'z' in my_set:\n",
    "    print(\"It's there\")"
   ]
  },
  {
   "cell_type": "code",
   "execution_count": 80,
   "metadata": {},
   "outputs": [
    {
     "data": {
      "text/plain": [
       "{'b', 'c', 'x', 'z'}"
      ]
     },
     "execution_count": 80,
     "metadata": {},
     "output_type": "execute_result"
    }
   ],
   "source": [
    "# Adding and removing items from a set\n",
    "my_set.add('x')\n",
    "my_set.remove('a')\n",
    "my_set"
   ]
  },
  {
   "cell_type": "code",
   "execution_count": 81,
   "metadata": {},
   "outputs": [
    {
     "data": {
      "text/plain": [
       "{'x', 'z'}"
      ]
     },
     "execution_count": 81,
     "metadata": {},
     "output_type": "execute_result"
    }
   ],
   "source": [
    "# set theory: UNION, INTERSECTION, etc. -- more uncommonly used\n",
    "my_other_set = set( ('z', 'x') )\n",
    "my_set.intersection(my_other_set)"
   ]
  },
  {
   "cell_type": "code",
   "execution_count": null,
   "metadata": {
    "scrolled": true
   },
   "outputs": [],
   "source": [
    "# help(my_set)"
   ]
  },
  {
   "cell_type": "code",
   "execution_count": 82,
   "metadata": {},
   "outputs": [
    {
     "name": "stdout",
     "output_type": "stream",
     "text": [
      "c\n",
      "z\n",
      "x\n",
      "b\n"
     ]
    }
   ],
   "source": [
    "# Iterate through a set.\n",
    "for item in my_set:\n",
    "    print(item)"
   ]
  },
  {
   "cell_type": "markdown",
   "metadata": {},
   "source": [
    "# Tuples are weird\n",
    "A tuple is similar to a list in that it's an ordered sequence of elements. However, tuples can not be changed once created (they are ***immutable***). \n",
    "\n",
    "Tuples are created by placing comma-separated values inside parentheses `()`.\n",
    "\n",
    "Tuples are often used to group (pack & unpack) related data together, but they are not as commonly used as lists or dictionaries in Python."
   ]
  },
  {
   "cell_type": "code",
   "execution_count": 83,
   "metadata": {},
   "outputs": [
    {
     "data": {
      "text/plain": [
       "('bar', 100, 200, 'foo')"
      ]
     },
     "execution_count": 83,
     "metadata": {},
     "output_type": "execute_result"
    }
   ],
   "source": [
    "# usually to group a bunch of items loosely associated to pack/unpack -- used as uncommon trick\n",
    "my_tuple = (\"bar\", 100, 200, \"foo\")\n",
    "my_tuple"
   ]
  },
  {
   "cell_type": "code",
   "execution_count": null,
   "metadata": {},
   "outputs": [],
   "source": [
    "# can't add items to tuples once created\n",
    "my_tuple[0] = 'zack'  # throws error"
   ]
  },
  {
   "cell_type": "code",
   "execution_count": 86,
   "metadata": {},
   "outputs": [
    {
     "name": "stdout",
     "output_type": "stream",
     "text": [
      "bar 100 200 foo\n"
     ]
    }
   ],
   "source": [
    "# tuples are primarily used for this >>\n",
    "var1, var2, var3, var4 = my_tuple\n",
    "print(var1, var2, var3, var4)"
   ]
  },
  {
   "cell_type": "code",
   "execution_count": 101,
   "metadata": {},
   "outputs": [],
   "source": [
    "# use when you know exactly how many items to unpack"
   ]
  },
  {
   "cell_type": "markdown",
   "metadata": {},
   "source": [
    "# Loops and iteration."
   ]
  },
  {
   "cell_type": "code",
   "execution_count": null,
   "metadata": {},
   "outputs": [],
   "source": [
    "# generally when to use:\n",
    "# FOR LOOP -- you know how many times to iterate (iterates naturally/as stated)\n",
    "# WHILE LOOP -- you don't know; it'll run until a condition is met (&& you manually iterate)"
   ]
  },
  {
   "cell_type": "code",
   "execution_count": 87,
   "metadata": {},
   "outputs": [
    {
     "name": "stdout",
     "output_type": "stream",
     "text": [
      "11\n",
      "14\n",
      "12\n",
      "109\n"
     ]
    }
   ],
   "source": [
    "# Iterating through a list\n",
    "my_list = [1, 4, 2, 99]\n",
    "for item in my_list:\n",
    "    print(item + 10)"
   ]
  },
  {
   "cell_type": "code",
   "execution_count": 88,
   "metadata": {},
   "outputs": [
    {
     "name": "stdout",
     "output_type": "stream",
     "text": [
      "The value is currently 0\n",
      "The value is currently 1\n",
      "The value is currently 2\n",
      "The value is currently 3\n",
      "The value is currently 4\n"
     ]
    }
   ],
   "source": [
    "# Using a for loop with range\n",
    "# for loops are used when you know the number of iterations in advance.\n",
    "for i in range(5):\n",
    "    print('The value is currently', i)"
   ]
  },
  {
   "cell_type": "code",
   "execution_count": 89,
   "metadata": {},
   "outputs": [
    {
     "name": "stdout",
     "output_type": "stream",
     "text": [
      "1\n",
      "2\n",
      "3\n",
      "4\n",
      "5\n",
      "6\n",
      "7\n",
      "8\n",
      "9\n",
      "10\n"
     ]
    }
   ],
   "source": [
    "# Using a while loop\n",
    "# A while loop continues until a condition is no longer true.\n",
    "# Used when we don't know how many times we want to loop.\n",
    "i = 0\n",
    "\n",
    "while i < 10:\n",
    "    i += 1\n",
    "    print(i)"
   ]
  },
  {
   "cell_type": "markdown",
   "metadata": {},
   "source": [
    "# Conditions statements\n",
    "\n",
    "```py\n",
    "# We can also use comparison and logic operators: \n",
    "<, >, ==, !=, <=, >= \n",
    "\n",
    "# and statements of identity such as \n",
    "and, or, not\n",
    "```\n",
    "The data type returned by this is called a ___boolean___.\n",
    "\n",
    "* Equals: `a == b`\n",
    "\n",
    "* Not Equals: `a != b`\n",
    "\n",
    "* Less than: `a < b`\n",
    "\n",
    "* Less than or equal to: `a <= b`\n",
    "\n",
    "* Greater than: `a > b`\n",
    "\n",
    "* Greater than or equal to: `a >= b`\n",
    "\n",
    "\n",
    "These conditions can be used in several ways, most commonly in \"if statements\" and loops.\n",
    "\n",
    "An \"if statement\" is written by using the `if` keyword."
   ]
  },
  {
   "cell_type": "code",
   "execution_count": 90,
   "metadata": {},
   "outputs": [
    {
     "name": "stdout",
     "output_type": "stream",
     "text": [
      "False\n",
      "True\n"
     ]
    }
   ],
   "source": [
    "a = 5\n",
    "print(a > 10)\n",
    "\n",
    "print(a <= 5)"
   ]
  },
  {
   "cell_type": "code",
   "execution_count": 91,
   "metadata": {},
   "outputs": [
    {
     "data": {
      "text/plain": [
       "True"
      ]
     },
     "execution_count": 91,
     "metadata": {},
     "output_type": "execute_result"
    }
   ],
   "source": [
    "a = 5\n",
    "b = 3\n",
    "a != b"
   ]
  },
  {
   "cell_type": "code",
   "execution_count": 92,
   "metadata": {},
   "outputs": [
    {
     "data": {
      "text/plain": [
       "True"
      ]
     },
     "execution_count": 92,
     "metadata": {},
     "output_type": "execute_result"
    }
   ],
   "source": [
    "a > b"
   ]
  },
  {
   "cell_type": "markdown",
   "metadata": {},
   "source": [
    "## If / Else statements"
   ]
  },
  {
   "cell_type": "code",
   "execution_count": 93,
   "metadata": {},
   "outputs": [
    {
     "name": "stdout",
     "output_type": "stream",
     "text": [
      "a is larger than b\n"
     ]
    }
   ],
   "source": [
    "a = 5\n",
    "b = 3\n",
    "\n",
    "if a > b:\n",
    "    print('a is larger than b')"
   ]
  },
  {
   "cell_type": "markdown",
   "metadata": {},
   "source": [
    "## How would you write an *if statement* to check if `a` and `b` are equal..?"
   ]
  },
  {
   "cell_type": "code",
   "execution_count": 106,
   "metadata": {},
   "outputs": [
    {
     "name": "stdout",
     "output_type": "stream",
     "text": [
      "a and b are not equal\n",
      "a and b are not equal\n"
     ]
    }
   ],
   "source": [
    "#### How would you write an if statement to check if a and be are equal..?\n",
    "\n",
    "# use elif when there are more than conditions\n",
    "if a == b:\n",
    "    print(\"a and b are equal\")\n",
    "elif a != b:\n",
    "    print(\"a and b are not equal\")\n",
    "\n",
    "# INSTEAD use else -- logically implied (when there are only two conditions)\n",
    "if a == b:\n",
    "    print(\"a and b are equal\")\n",
    "else:\n",
    "    print(\"a and b are not equal\")"
   ]
  },
  {
   "cell_type": "markdown",
   "metadata": {},
   "source": [
    "### The `elif` keyword is Python's way of saying \"if the previous conditions were not true, then try this condition\".\n",
    "\n",
    "### The `else` keyword catches anything which isn't caught by the preceding conditions."
   ]
  },
  {
   "cell_type": "code",
   "execution_count": 107,
   "metadata": {},
   "outputs": [
    {
     "name": "stdout",
     "output_type": "stream",
     "text": [
      "A < B\n"
     ]
    }
   ],
   "source": [
    "### How would you write a series of if statements to check if a > b or b < a or a == b?\n",
    "a = 1\n",
    "b = 7\n",
    "if a > b:\n",
    "    print('A > B')\n",
    "elif a < b:\n",
    "    print('A < B')\n",
    "else:\n",
    "    print('A == B')\n",
    "    "
   ]
  },
  {
   "cell_type": "markdown",
   "metadata": {},
   "source": [
    "## Combining logical operators using `and`, `or`, `not`"
   ]
  },
  {
   "cell_type": "code",
   "execution_count": 104,
   "metadata": {},
   "outputs": [
    {
     "name": "stdout",
     "output_type": "stream",
     "text": [
      "a is larger than b and c\n"
     ]
    }
   ],
   "source": [
    "# Using multiple conditions in an if statement\n",
    "a = 100\n",
    "b = 10\n",
    "c = 77\n",
    "\n",
    "if (a > b) and (a > c):\n",
    "    print('a is larger than b and c')"
   ]
  },
  {
   "cell_type": "code",
   "execution_count": 105,
   "metadata": {},
   "outputs": [
    {
     "name": "stdout",
     "output_type": "stream",
     "text": [
      "a or b is greater than c\n"
     ]
    }
   ],
   "source": [
    "# Using OR in an if statement\n",
    "if (a > b) | (b > c):\n",
    "    print('a or b is greater than c')"
   ]
  },
  {
   "cell_type": "markdown",
   "metadata": {},
   "source": [
    "Other languages use `&&`, `||`, `!` for logical operators, Python lets you use those but can also type out `and`, `or`, and `not`."
   ]
  },
  {
   "cell_type": "markdown",
   "metadata": {},
   "source": [
    "# Loops with conditional statements\n",
    "* My favorite cheat code: `break`."
   ]
  },
  {
   "cell_type": "code",
   "execution_count": 109,
   "metadata": {},
   "outputs": [
    {
     "name": "stdout",
     "output_type": "stream",
     "text": [
      "0\n",
      "1\n",
      "2\n",
      "3\n",
      "4\n",
      "5\n"
     ]
    }
   ],
   "source": [
    "# break the loop -- stop looping when a condition is met\n",
    "for i in range(0, 10):\n",
    "    print(i)\n",
    "    if i == 5: # break out of the loop when i is 5\n",
    "        break"
   ]
  },
  {
   "cell_type": "markdown",
   "metadata": {},
   "source": [
    "___\n",
    "# Functions\n",
    "\n",
    "* They're reusable pieces of code that perform a specific task. They allow you to encapsulate logic and avoid repetition in your code.\n",
    "\n",
    "* They can take inputs (called *parameters*) and return outputs (called *return values*). \n",
    "\n",
    "* They can be called multiple times with different inputs, making your code more modular and easier to maintain."
   ]
  },
  {
   "cell_type": "code",
   "execution_count": null,
   "metadata": {},
   "outputs": [],
   "source": [
    "print(\"You are doing good work, Adriana!\")\n",
    "print(\"Thank you very much for your efforts on this project.\")\n",
    "\n",
    "print(\"\\nYou are doing good work, Billy!\")\n",
    "print(\"Thank you very much for your efforts on this project.\")\n",
    "\n",
    "print(\"\\nYou are doing good work, Caroline!\")\n",
    "print(\"Thank you very much for your efforts on this project.\")"
   ]
  },
  {
   "cell_type": "code",
   "execution_count": 112,
   "metadata": {},
   "outputs": [],
   "source": [
    "# use a function to print out these TY-msgs, resuing code with some changes"
   ]
  },
  {
   "cell_type": "code",
   "execution_count": 111,
   "metadata": {},
   "outputs": [
    {
     "name": "stdout",
     "output_type": "stream",
     "text": [
      "\n",
      "You are doing good work, Adriana!\n",
      "Thank you very much for your efforts on this project.\n",
      "\n",
      "You are doing good work, Billy!\n",
      "Thank you very much for your efforts on this project.\n",
      "\n",
      "You are doing good work, Caroline!\n",
      "Thank you very much for your efforts on this project.\n"
     ]
    }
   ],
   "source": [
    "def thank_you(name):\n",
    "    # This function prints a two-line personalized thank you message.\n",
    "    print(f\"\\nYou are doing good work, {name}!\")\n",
    "    print(\"Thank you very much for your efforts on this project.\")\n",
    "    \n",
    "thank_you(name='Adriana')\n",
    "thank_you(name='Billy')\n",
    "thank_you(name='Caroline')"
   ]
  },
  {
   "cell_type": "code",
   "execution_count": 114,
   "metadata": {},
   "outputs": [
    {
     "name": "stdout",
     "output_type": "stream",
     "text": [
      "50.0\n"
     ]
    }
   ],
   "source": [
    "def my_function(x):\n",
    "    # within triple quotes, your function description -- for when you later hover over your f(x)\n",
    "    # aka docstring (documentation string) -- provides in-code documentation for function\n",
    "    \"\"\"\n",
    "    Function that halfs the input variable. \n",
    "    \"\"\"\n",
    "    # return_value = x / 2.0\n",
    "    return x / 2.0\n",
    "\n",
    "\n",
    "my_value = 100\n",
    "new_value = my_function(x = 100)\n",
    "print(new_value)"
   ]
  },
  {
   "cell_type": "markdown",
   "metadata": {},
   "source": [
    "### Class Question\n",
    "Given a list of numbers, apply `my_function` to each element in the list and store it in a new list.\n"
   ]
  },
  {
   "cell_type": "code",
   "execution_count": 116,
   "metadata": {},
   "outputs": [
    {
     "name": "stdout",
     "output_type": "stream",
     "text": [
      "[1, 1, 2, 3, 5, 8, 13, 21, 34]\n",
      "[0.5, 0.5, 1.0, 1.5, 2.5, 4.0, 6.5, 10.5, 17.0]\n"
     ]
    }
   ],
   "source": [
    "# Given a list of numbers, apply my_function to each element in the list and store it in a new list.\n",
    "\n",
    "my_numbers = [1, 1, 2, 3, 5, 8, 13, 21, 34]\n",
    "print(my_numbers)\n",
    "\n",
    "new_nums = []\n",
    "for num in my_numbers:\n",
    "    new_nums.append(my_function(num))\n",
    "print(new_nums)"
   ]
  },
  {
   "cell_type": "code",
   "execution_count": 117,
   "metadata": {},
   "outputs": [
    {
     "data": {
      "text/plain": [
       "[0.5, 0.5, 1.0, 1.5, 2.5, 4.0, 6.5, 10.5, 17.0]"
      ]
     },
     "execution_count": 117,
     "metadata": {},
     "output_type": "execute_result"
    }
   ],
   "source": [
    "# List comprehensions. \n",
    "[my_function(num) for num in my_numbers]"
   ]
  },
  {
   "cell_type": "code",
   "execution_count": 120,
   "metadata": {},
   "outputs": [],
   "source": [
    "# list comprehensions >> personal/stylistic usage (not commonly used, but it works)\n",
    "## make one-liner loops, applying the function to all specified items within the loop"
   ]
  },
  {
   "cell_type": "code",
   "execution_count": null,
   "metadata": {},
   "outputs": [
    {
     "data": {
      "text/plain": [
       "[101, 101, 102, 103, 105, 108, 113, 121, 134]"
      ]
     },
     "execution_count": 119,
     "metadata": {},
     "output_type": "execute_result"
    }
   ],
   "source": [
    "# adding 100 to all items within the original my_numbers\n",
    "my_counter_list = [ 100 + item for item in my_numbers]\n",
    "my_counter_list"
   ]
  },
  {
   "cell_type": "markdown",
   "metadata": {},
   "source": [
    "# Side quests, comments.\n",
    "A comment is anything in your code that follows a `#` or is contained within three quotations. \n",
    "\n",
    "`# Comment goes here.`\n",
    "or\n",
    "`''' Comment goes here. '''`\n",
    "\n",
    "#### What makes a good comment?\n",
    "* **Short and to the point**, but a complete thought. Most comments should be written as complete sentences.\n",
    "* **Explains your thinking**, so that when you return to the code later you and others will understand how you were approaching the problem.\n",
    "* Explains particularly **difficult sections** of code in detail.\n",
    "\n",
    "#### When should you write comments?\n",
    "* When you have to **think about code** before writing it.\n",
    "* When you are likely to forget later exactly how you were approaching a problem.\n",
    "* When there is more than one way to solve a problem.\n",
    "* When others are unlikely to anticipate your way of thinking about a problem.\n",
    "\n",
    "### Writing good comments is one of the clear signs of a good programmer. It is an art. If you have any real interest in taking programming seriously, start using comments now. You will see them throughout the examples in these notebooks."
   ]
  },
  {
   "cell_type": "code",
   "execution_count": 122,
   "metadata": {},
   "outputs": [],
   "source": [
    "# Docstring example\n",
    "def basic_math_operations():\n",
    "    \"\"\"\n",
    "        multi line comments\n",
    "        like this and that\n",
    "\n",
    "        and all this ***stuff***\n",
    "\n",
    "        `cool formatting`\n",
    "\n",
    "        ```\n",
    "        def my_function():\n",
    "            pass\n",
    "        ```\n",
    "    \"\"\"\n",
    "    addition = 1 + 1\n",
    "    multiply = 9 * 10\n",
    "    divide = 12 / 4\n",
    "    modulo = 10 % 3\n",
    "    power = 2**6\n",
    "\n",
    "    print(addition, multiply, divide, modulo, power)"
   ]
  },
  {
   "cell_type": "code",
   "execution_count": null,
   "metadata": {},
   "outputs": [],
   "source": []
  }
 ],
 "metadata": {
  "kernelspec": {
   "display_name": "Python 3",
   "language": "python",
   "name": "python3"
  },
  "language_info": {
   "codemirror_mode": {
    "name": "ipython",
    "version": 3
   },
   "file_extension": ".py",
   "mimetype": "text/x-python",
   "name": "python",
   "nbconvert_exporter": "python",
   "pygments_lexer": "ipython3",
   "version": "3.12.1"
  }
 },
 "nbformat": 4,
 "nbformat_minor": 4
}
